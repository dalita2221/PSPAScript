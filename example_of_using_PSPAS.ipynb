{
 "cells": [
  {
   "cell_type": "code",
   "execution_count": null,
   "id": "2b69bb77-00c1-4fd4-8017-6315272d461b",
   "metadata": {},
   "outputs": [],
   "source": [
    "import numpy as np\n",
    "import json\n",
    "import csv\n",
    "from PIL import Image\n",
    "\n",
    "import helper_functions\n",
    "import poligon_analysis\n",
    "import poligon_examples"
   ]
  },
  {
   "cell_type": "code",
   "execution_count": null,
   "id": "b639117a-b1fb-468a-ae5e-cd86199726d0",
   "metadata": {},
   "outputs": [],
   "source": [
    "# useful function for extracting data from json file\n",
    "def extract_data(file):\n",
    "    with open(file, \"r\") as f:\n",
    "        data = f.read()\n",
    "    data = json.loads(data)\n",
    "    poligon_array = np.array([])\n",
    "    for i in data['shapes']:\n",
    "        poligon_array = np.append(poligon_array, poligon_analysis.Particle(i['points'], i['label']))\n",
    "\n",
    "    img = Image.fromarray(helper_functions.img_b64_to_arr(data[\"imageData\"]))\n",
    "    \n",
    "    return file, img, poligon_array"
   ]
  },
  {
   "cell_type": "code",
   "execution_count": null,
   "id": "35609b85-18e0-4c81-9819-a4db80411a2a",
   "metadata": {},
   "outputs": [],
   "source": [
    "# specify the path to the file\n",
    "file = r'your_file.json'\n",
    "file, image, poligon_array = extract_data(file)"
   ]
  },
  {
   "cell_type": "code",
   "execution_count": null,
   "id": "228cf02b-baae-40de-a28b-c2db252643c7",
   "metadata": {},
   "outputs": [],
   "source": [
    "# polygon analysis using parameterized polygons\n",
    "for i in poligon_array:\n",
    "    i.optimization(poligon_examples.Hexogonal())\n",
    "    i.optimization(poligon_examples.Rectangle())\n",
    "    i.optimization(poligon_examples.Square())\n",
    "    i.optimization(poligon_examples.Circle())\n",
    "    i.optimization(poligon_examples.Ellipse())"
   ]
  },
  {
   "cell_type": "code",
   "execution_count": null,
   "id": "5f6dcae8-a088-4652-901e-9f6991f5fa62",
   "metadata": {},
   "outputs": [],
   "source": [
    "# creating a .csv file with the analysis results\n",
    "with open(file[0:-5] + '_data.csv', 'w', newline='') as csvfile:\n",
    "    writer = csv.writer(csvfile, delimiter=';')\n",
    "    header_string = ['№']+['marker'] + ['CM.x']+['CM.y']+['Ravg']\n",
    "    for i in poligon_array[0].parametrs:\n",
    "        header_string += map(lambda x: x + '(' + i + ')', poligon_array[0].parametrs[i][0].parametrs_name)\n",
    "    writer.writerow(header_string)\n",
    "    c = 0\n",
    "    for i in poligon_array:\n",
    "        data_string = [c] + [i.marker] + [i.cm[0]]+[i.cm[1]]+[i.r_avg]\n",
    "        c += 1\n",
    "        for j in i.parametrs:\n",
    "            data_string += i.parametrs[j][2].tolist()\n",
    "        writer.writerow(data_string)"
   ]
  }
 ],
 "metadata": {
  "kernelspec": {
   "display_name": "Python 3 (ipykernel)",
   "language": "python",
   "name": "python3"
  },
  "language_info": {
   "codemirror_mode": {
    "name": "ipython",
    "version": 3
   },
   "file_extension": ".py",
   "mimetype": "text/x-python",
   "name": "python",
   "nbconvert_exporter": "python",
   "pygments_lexer": "ipython3",
   "version": "3.12.4"
  }
 },
 "nbformat": 4,
 "nbformat_minor": 5
}
